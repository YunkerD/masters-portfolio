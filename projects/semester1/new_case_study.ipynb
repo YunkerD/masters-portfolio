{
 "cells": [
  {
   "cell_type": "markdown",
   "id": "6f0e444d",
   "metadata": {},
   "source": [
    "# 📘 Semester 1 – New Case Study\n",
    "**Tags**: semester1, asset-intelligence, LaTrobe, MDS"
   ]
  },
  {
   "cell_type": "markdown",
   "id": "a1c5d686",
   "metadata": {},
   "source": []
  }
 ],
 "metadata": {
  "language_info": {
   "name": "python"
  }
 },
 "nbformat": 4,
 "nbformat_minor": 5
}
